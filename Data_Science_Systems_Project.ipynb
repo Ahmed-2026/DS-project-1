{
  "nbformat": 4,
  "nbformat_minor": 0,
  "metadata": {
    "colab": {
      "provenance": []
    },
    "kernelspec": {
      "name": "python3",
      "display_name": "Python 3"
    },
    "language_info": {
      "name": "python"
    }
  },
  "cells": [
    {
      "cell_type": "code",
      "execution_count": null,
      "metadata": {
        "colab": {
          "base_uri": "https://localhost:8080/"
        },
        "id": "dMvHhfHwZv07",
        "outputId": "f7c3ad11-09b5-4caf-cf84-89e3b9ff98e5"
      },
      "outputs": [
        {
          "output_type": "stream",
          "name": "stdout",
          "text": [
            "Requirement already satisfied: pandas in /usr/local/lib/python3.10/dist-packages (2.2.2)\n",
            "Requirement already satisfied: requests in /usr/local/lib/python3.10/dist-packages (2.32.3)\n",
            "Requirement already satisfied: numpy>=1.22.4 in /usr/local/lib/python3.10/dist-packages (from pandas) (1.26.4)\n",
            "Requirement already satisfied: python-dateutil>=2.8.2 in /usr/local/lib/python3.10/dist-packages (from pandas) (2.8.2)\n",
            "Requirement already satisfied: pytz>=2020.1 in /usr/local/lib/python3.10/dist-packages (from pandas) (2024.2)\n",
            "Requirement already satisfied: tzdata>=2022.7 in /usr/local/lib/python3.10/dist-packages (from pandas) (2024.2)\n",
            "Requirement already satisfied: charset-normalizer<4,>=2 in /usr/local/lib/python3.10/dist-packages (from requests) (3.4.0)\n",
            "Requirement already satisfied: idna<4,>=2.5 in /usr/local/lib/python3.10/dist-packages (from requests) (3.10)\n",
            "Requirement already satisfied: urllib3<3,>=1.21.1 in /usr/local/lib/python3.10/dist-packages (from requests) (2.2.3)\n",
            "Requirement already satisfied: certifi>=2017.4.17 in /usr/local/lib/python3.10/dist-packages (from requests) (2024.8.30)\n",
            "Requirement already satisfied: six>=1.5 in /usr/local/lib/python3.10/dist-packages (from python-dateutil>=2.8.2->pandas) (1.16.0)\n"
          ]
        }
      ],
      "source": [
        "import requests\n",
        "import requests\n",
        "import pandas as pd\n",
        "import json\n",
        "import sqlite3\n",
        "!pip install pandas requests\n",
        "\n"
      ]
    },
    {
      "cell_type": "code",
      "source": [
        "def fetch_csv(url):\n",
        "  response = requests.get('https://www.kaggle.com/code/yashnarendrajadhav/anti-money-laundering-transactions-project/input')\n",
        "  with open('SAML-D.csv', 'wb') as file:\n",
        "    file.write(response.content)\n",
        "  return pd.read_csv('SAML-D.csv')"
      ],
      "metadata": {
        "id": "NblKINN7fY1O"
      },
      "execution_count": null,
      "outputs": []
    },
    {
      "cell_type": "code",
      "source": [
        "API_KEY = \"ffbc68e4-95fa-41a6-ae12-92538acdb860\"\n",
        "BASE_URL = \"https://api.coincap.io/v2\""
      ],
      "metadata": {
        "id": "cd8N9U9Sj3QP"
      },
      "execution_count": 1,
      "outputs": []
    },
    {
      "cell_type": "code",
      "source": [
        "def fetch_crypto_api(endpoint=\"/assets\", params=None):\n",
        "    headers = {\"Authorization\": f\"Bearer {API_KEY}\"}\n",
        "    url = f\"{BASE_URL}{endpoint}\"\n",
        "\n",
        "    try:\n",
        "        response = requests.get(url, headers=headers, params=params)\n",
        "        response.raise_for_status()  # Raise an exception for bad status codes\n",
        "        data = response.json()[\"data\"]\n",
        "        return pd.DataFrame(data)\n",
        "    except requests.RequestException as e:\n",
        "        print(f\"Error fetching data from API: {e}\")\n",
        "        return None"
      ],
      "metadata": {
        "id": "0rgo3-_0AkCx"
      },
      "execution_count": 3,
      "outputs": []
    }
  ]
}